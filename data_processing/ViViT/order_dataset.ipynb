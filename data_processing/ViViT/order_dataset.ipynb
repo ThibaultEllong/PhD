{
 "cells": [
  {
   "cell_type": "markdown",
   "metadata": {},
   "source": [
    "# Dataset Ordering Notebook\n",
    "The goal of this notebook is to order the EgoExo4D dataset from the downloaded structure to one more suitable for training."
   ]
  },
  {
   "cell_type": "markdown",
   "metadata": {},
   "source": [
    "## Parse each subfolder's name"
   ]
  },
  {
   "cell_type": "code",
   "execution_count": 9,
   "metadata": {},
   "outputs": [],
   "source": [
    "import os\n",
    "from pathlib import Path\n",
    "\n",
    "def get_subfolders(root_dir):\n",
    "    subfolder_paths = os.listdir(root_dir)\n",
    "    return subfolder_paths\n",
    "\n",
    "subfolders = get_subfolders(\"/home/thibault/Documents/Code/Models/SkateFormer/assets/train/\")"
   ]
  },
  {
   "cell_type": "markdown",
   "metadata": {},
   "source": [
    "Match the subfolder's name with the corresponding parent task label"
   ]
  },
  {
   "cell_type": "code",
   "execution_count": 27,
   "metadata": {},
   "outputs": [],
   "source": [
    "import json\n",
    "\n",
    "def read_json(file_path):\n",
    "    \n",
    "    with open(file_path, 'r') as f:\n",
    "        data = json.load(f)\n",
    "    return data\n",
    "\n",
    "task_data = read_json(\"/media/thibault/DATA/these_thibault/Dataset/data/EgoExo4D/annotations/metadata/takes.json\")\n",
    "\n",
    "def match_name_label(data):\n",
    "    data_dict = {}\n",
    "    \n",
    "    for task in data:\n",
    "        data_dict |= {task.get(\"take_name\"):task.get(\"parent_task_name\")}\n",
    "\n",
    "    return data_dict\n",
    "\n",
    "label_data = match_name_label(task_data)\n"
   ]
  },
  {
   "cell_type": "markdown",
   "metadata": {},
   "source": [
    "Move the egocentric video to the folder of the corresponding task label.\n"
   ]
  },
  {
   "cell_type": "code",
   "execution_count": 28,
   "metadata": {},
   "outputs": [],
   "source": [
    "import shutil\n",
    "import csv\n",
    "\n",
    "def move_and_rename_videos(source_dir,dest_dir, pattern, label_data, output_csv):\n",
    "    # Load the labels from the JSON file\n",
    "\n",
    "    # List to keep track of the renamed files and their unique IDs and labels\n",
    "    renamed_files = []\n",
    "\n",
    "    # Counter for unique IDs\n",
    "    unique_id = 0\n",
    "\n",
    "    # Walk through the directory\n",
    "    for root, dirnames, filenames in os.walk(source_dir):\n",
    "        for filename in filenames:\n",
    "            if pattern in filename:\n",
    "                # Construct full file path\n",
    "                src_path = os.path.join(root, filename)\n",
    "\n",
    "                # Extract class name from the path\n",
    "                class_name = root.split(os.sep)[-2]  # Assumes class_name is two levels up from the file\n",
    "\n",
    "                # Get the corresponding label\n",
    "                label = label_data.get(class_name, \"Unknown\")\n",
    "                \n",
    "                task_id = label_data.get(\"task_id\")\n",
    "                \n",
    "                parent_task_id = label_data.get(\"parent_task_id\")\n",
    "\n",
    "                # Create new file name with unique ID\n",
    "                new_filename = f\"{class_name}.mp4\"\n",
    "                \n",
    "                if label not in os.listdir(dest_dir):\n",
    "                    os.mkdir(os.path.join(dest_dir, label))\n",
    "                    \n",
    "                dest_path = os.path.join(dest_dir, label, new_filename)\n",
    "\n",
    "                # Move and rename the file\n",
    "                shutil.copy(src_path, dest_path)\n",
    "\n",
    "                # Log the original and new file names along with the label\n",
    "                renamed_files.append((unique_id, filename, new_filename, label))\n",
    "\n",
    "                # Increment the unique ID\n",
    "                unique_id += 1\n",
    "\n",
    "    # Write the changes to a CSV file\n",
    "    with open(output_csv, mode='w', newline='') as file:\n",
    "        writer = csv.writer(file)\n",
    "        writer.writerow([\"Unique ID\", \"Original Name\", \"New Name\", \"Label\"])\n",
    "        writer.writerows(renamed_files)\n",
    "        \n",
    "source_directory = Path('/home/thibault/Documents/Code/Models/SkateFormer/assets/test/')  # The directory containing the videos\n",
    "pattern = '_214'\n",
    "labels_json_path = '/media/thibault/DATA/these_thibault/Dataset/data/EgoExo4D/annotations/labels.json'  # Path to the JSON file containing class labels\n",
    "output_csv_file = source_directory /'metadata.csv'\n",
    "dest_path = \"/media/thibault/DATA/these_thibault/Dataset/data/EgoExo4D/dataset/test/\"\n",
    "\n",
    "move_and_rename_videos(source_directory, dest_path, pattern, label_data, output_csv_file)\n"
   ]
  }
 ],
 "metadata": {
  "kernelspec": {
   "display_name": ".venv",
   "language": "python",
   "name": "python3"
  },
  "language_info": {
   "codemirror_mode": {
    "name": "ipython",
    "version": 3
   },
   "file_extension": ".py",
   "mimetype": "text/x-python",
   "name": "python",
   "nbconvert_exporter": "python",
   "pygments_lexer": "ipython3",
   "version": "3.10.12"
  }
 },
 "nbformat": 4,
 "nbformat_minor": 2
}
