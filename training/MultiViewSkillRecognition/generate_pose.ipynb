{
 "cells": [
  {
   "cell_type": "markdown",
   "metadata": {},
   "source": [
    "This notebook is used to generate the 3D poses of sequences using yolo and save them in a .json file."
   ]
  },
  {
   "cell_type": "code",
   "execution_count": 2,
   "metadata": {},
   "outputs": [],
   "source": [
    "from egoexo_dataloader_2 import EgoExoDataset\n",
    "from ultralytics import YOLO\n",
    "import os"
   ]
  },
  {
   "cell_type": "code",
   "execution_count": 3,
   "metadata": {},
   "outputs": [],
   "source": [
    "dataset_path = '/media/thibault/T5 EVO/Datasets/Ego4D/'\n",
    "train_dataset = EgoExoDataset(dataset_path, os.path.join(dataset_path, 'takes.json'), split = \"train\", viewpoint = \"exo\", skill=True, get_frames=True, get_pose=False, get_hands_pose=False, frame_rate=3, transform=None)\n",
    "val_dataset = EgoExoDataset(dataset_path, os.path.join(dataset_path, 'takes.json'), split = \"val\",viewpoint = \"exo\",skill=True, get_frames=True, get_pose=False, get_hands_pose=False, frame_rate=3, transform=None)"
   ]
  },
  {
   "cell_type": "code",
   "execution_count": 4,
   "metadata": {},
   "outputs": [],
   "source": [
    "data = train_dataset.__getitem__(10)\n"
   ]
  },
  {
   "cell_type": "code",
   "execution_count": 5,
   "metadata": {},
   "outputs": [
    {
     "data": {
      "text/plain": [
       "['/media/thibault/T5 EVO/Datasets/Ego4D/takes/georgiatech_cooking_01_01_4/frame_aligned_videos/downscaled/448/aria04.mp4',\n",
       " '/media/thibault/T5 EVO/Datasets/Ego4D/takes/georgiatech_cooking_01_01_4/frame_aligned_videos/downscaled/448/cam01.mp4',\n",
       " '/media/thibault/T5 EVO/Datasets/Ego4D/takes/georgiatech_cooking_01_01_4/frame_aligned_videos/downscaled/448/cam02.mp4',\n",
       " '/media/thibault/T5 EVO/Datasets/Ego4D/takes/georgiatech_cooking_01_01_4/frame_aligned_videos/downscaled/448/cam03.mp4',\n",
       " '/media/thibault/T5 EVO/Datasets/Ego4D/takes/georgiatech_cooking_01_01_4/frame_aligned_videos/downscaled/448/cam04.mp4',\n",
       " '/media/thibault/T5 EVO/Datasets/Ego4D/takes/georgiatech_cooking_01_01_4/frame_aligned_videos/downscaled/448/aria04_214-1.mp4']"
      ]
     },
     "execution_count": 5,
     "metadata": {},
     "output_type": "execute_result"
    }
   ],
   "source": [
    "paths = [path for path in train_dataset.samples[0][\"exo\"]]\n",
    "paths.append(train_dataset.samples[0][\"ego\"])\n",
    "paths"
   ]
  },
  {
   "cell_type": "code",
   "execution_count": null,
   "metadata": {},
   "outputs": [
    {
     "name": "stdout",
     "output_type": "stream",
     "text": [
      "torch.Size([16, 3, 448, 796])\n"
     ]
    }
   ],
   "source": [
    "import cv2\n",
    "import numpy as np\n",
    "from typing import Callable, Generator, List\n",
    "\n",
    "def frame_windows(video_path: str,\n",
    "                  window_size: int\n",
    "                 ) -> Generator[List[np.ndarray], None, None]:\n",
    "    \"\"\"\n",
    "    Lazily read `window_size` frames at a time from the video.\n",
    "    Yields lists of frames (last batch may be smaller).\n",
    "    \"\"\"\n",
    "    cap = cv2.VideoCapture(video_path)\n",
    "    if not cap.isOpened():\n",
    "        raise IOError(f\"Cannot open video {video_path}\")\n",
    "    \n",
    "    frames: List[np.ndarray] = []\n",
    "    while True:\n",
    "        ret, frame = cap.read()\n",
    "        if not ret:\n",
    "            break\n",
    "        frames.append(frame)\n",
    "        if len(frames) == window_size:\n",
    "            yield frames\n",
    "            frames = []\n",
    "    if frames:\n",
    "        yield frames\n",
    "    cap.release()\n",
    "\n",
    "def extract_skeleton(video_path: str,\n",
    "                     window_size: int = 32,\n",
    "                     predict: Callable[[List[np.ndarray]], np.ndarray] = None\n",
    "                    ) -> np.ndarray:\n",
    "    \"\"\"\n",
    "    Process a video in non-overlapping windows to extract per-frame skeletons\n",
    "    without ever loading the whole video into RAM at once.\n",
    "\n",
    "    Args:\n",
    "        video_path: Path to the input video file.\n",
    "        window_size: Number of frames per chunk.\n",
    "        predict: Function(frames_list) → np.ndarray of shape\n",
    "                 (num_frames, num_keypoints, dims).\n",
    "\n",
    "    Returns:\n",
    "        skeleton_sequence: np.ndarray of shape\n",
    "            (total_frames, num_keypoints, dims).\n",
    "    \"\"\"\n",
    "    if predict is None:\n",
    "        raise ValueError(\"You must pass in a `predict` function.\")\n",
    "    \n",
    "    skeleton_chunks = []\n",
    "    total = 0\n",
    "    for frames in frame_windows(video_path, window_size):\n",
    "        # frames is at most window_size in length\n",
    "        sk = predict(frames)  # e.g. (len(frames), K, D)\n",
    "        skeleton_chunks.append(sk)\n",
    "        total += sk.shape[0]\n",
    "    \n",
    "    # Concatenate along temporal axis:\n",
    "    skeleton_sequence = np.concatenate(skeleton_chunks, axis=0)\n",
    "    assert skeleton_sequence.shape[0] == total\n",
    "    return skeleton_sequence\n"
   ]
  },
  {
   "cell_type": "code",
   "execution_count": null,
   "metadata": {},
   "outputs": [],
   "source": [
    "skeleton_sequence = extract_skeleton(paths[1], )"
   ]
  }
 ],
 "metadata": {
  "kernelspec": {
   "display_name": "ego-challenge",
   "language": "python",
   "name": "python3"
  },
  "language_info": {
   "codemirror_mode": {
    "name": "ipython",
    "version": 3
   },
   "file_extension": ".py",
   "mimetype": "text/x-python",
   "name": "python",
   "nbconvert_exporter": "python",
   "pygments_lexer": "ipython3",
   "version": "3.12.9"
  }
 },
 "nbformat": 4,
 "nbformat_minor": 2
}
